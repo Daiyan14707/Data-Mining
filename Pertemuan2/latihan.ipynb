{
 "cells": [
  {
   "cell_type": "markdown",
   "metadata": {},
   "source": [
    "1"
   ]
  },
  {
   "cell_type": "code",
   "execution_count": 111,
   "metadata": {},
   "outputs": [],
   "source": [
    "import pandas as pd\n",
    "from sklearn.preprocessing import LabelEncoder\n",
    "from sklearn.preprocessing import OneHotEncoder"
   ]
  },
  {
   "cell_type": "markdown",
   "metadata": {},
   "source": []
  },
  {
   "cell_type": "code",
   "execution_count": 112,
   "metadata": {},
   "outputs": [
    {
     "name": "stdout",
     "output_type": "stream",
     "text": [
      "      NO      NAMA   USIA  PARITAS JARAK KELAHIRAN RIW HIPERTENSI RIW PE  \\\n",
      "0      1    NAMA 1  23 TH        3       < 2 tahun          Tidak  Tidak   \n",
      "1      2    NAMA 2  29 TH        2       < 2 tahun          Tidak    PEB   \n",
      "2      3    NAMA 3  20 TH        1    anak pertama          Tidak  Tidak   \n",
      "3      4    NAMA 4  18 TH        1    anak pertama          Tidak  Tidak   \n",
      "4      5    NAMA 5  34 TH        3      > 2 tahun           Tidak  Tidak   \n",
      "..   ...       ...    ...      ...             ...            ...    ...   \n",
      "556  558  NAMA 557  40 TH        3      > 2 tahun           Tidak  Tidak   \n",
      "557  559  NAMA 558  28 TH        3       < 2 tahun          Tidak  Tidak   \n",
      "558  560  NAMA 559  41 TH        3      > 2 tahun           Tidak  Tidak   \n",
      "559  561  NAMA 560  32 TH        2      > 2 tahun           Tidak  Tidak   \n",
      "560  562  NAMA 561  30 TH        2      > 2 tahun           Tidak  Tidak   \n",
      "\n",
      "    OBESITAS RIW DM RIW HIPERTENSI/PE DALAM KELUARGA SOSEK RENDAH PE/Non PE  \\\n",
      "0      Tidak     Ya                            Tidak         >UMR    Non PE   \n",
      "1      Tidak  Tidak                              Ada         >UMR        PE   \n",
      "2      Tidak  Tidak                            Tidak         >UMR    Non PE   \n",
      "3      Tidak  Tidak                            Tidak         >UMR    Non PE   \n",
      "4      Tidak  Tidak                            Tidak         >UMR    Non PE   \n",
      "..       ...    ...                              ...          ...       ...   \n",
      "556    Tidak  Tidak                            Tidak         >UMR    Non PE   \n",
      "557    Tidak  Tidak                            Tidak         >UMR    Non PE   \n",
      "558    Tidak  Tidak                            Tidak         >UMR    Non PE   \n",
      "559    Tidak  Tidak                            Tidak         >UMR    Non PE   \n",
      "560    Tidak  Tidak                            Tidak         >UMR    Non PE   \n",
      "\n",
      "    Unnamed: 12  \n",
      "0           NaN  \n",
      "1           NaN  \n",
      "2           NaN  \n",
      "3           NaN  \n",
      "4           NaN  \n",
      "..          ...  \n",
      "556         NaN  \n",
      "557         NaN  \n",
      "558         NaN  \n",
      "559         NaN  \n",
      "560         NaN  \n",
      "\n",
      "[561 rows x 13 columns]\n"
     ]
    }
   ],
   "source": [
    "data = pd.read_excel('dataKasus-1.xlsx')\n",
    "print(data)"
   ]
  },
  {
   "cell_type": "code",
   "execution_count": 113,
   "metadata": {},
   "outputs": [
    {
     "name": "stdout",
     "output_type": "stream",
     "text": [
      "<class 'pandas.core.frame.DataFrame'>\n",
      "RangeIndex: 561 entries, 0 to 560\n",
      "Data columns (total 13 columns):\n",
      " #   Column                            Non-Null Count  Dtype \n",
      "---  ------                            --------------  ----- \n",
      " 0   NO                                561 non-null    int64 \n",
      " 1   NAMA                              561 non-null    object\n",
      " 2   USIA                              558 non-null    object\n",
      " 3   PARITAS                           561 non-null    int64 \n",
      " 4   JARAK KELAHIRAN                   554 non-null    object\n",
      " 5   RIW HIPERTENSI                    561 non-null    object\n",
      " 6   RIW PE                            561 non-null    object\n",
      " 7   OBESITAS                          561 non-null    object\n",
      " 8   RIW DM                            561 non-null    object\n",
      " 9   RIW HIPERTENSI/PE DALAM KELUARGA  561 non-null    object\n",
      " 10  SOSEK RENDAH                      561 non-null    object\n",
      " 11  PE/Non PE                         561 non-null    object\n",
      " 12  Unnamed: 12                       11 non-null     object\n",
      "dtypes: int64(2), object(11)\n",
      "memory usage: 57.1+ KB\n"
     ]
    }
   ],
   "source": [
    "data.info()"
   ]
  },
  {
   "cell_type": "code",
   "execution_count": 114,
   "metadata": {},
   "outputs": [],
   "source": [
    "data1 = data.drop(columns=['Unnamed: 12'])"
   ]
  },
  {
   "cell_type": "code",
   "execution_count": 115,
   "metadata": {},
   "outputs": [
    {
     "name": "stdout",
     "output_type": "stream",
     "text": [
      "<class 'pandas.core.frame.DataFrame'>\n",
      "RangeIndex: 561 entries, 0 to 560\n",
      "Data columns (total 12 columns):\n",
      " #   Column                            Non-Null Count  Dtype \n",
      "---  ------                            --------------  ----- \n",
      " 0   NO                                561 non-null    int64 \n",
      " 1   NAMA                              561 non-null    object\n",
      " 2   USIA                              558 non-null    object\n",
      " 3   PARITAS                           561 non-null    int64 \n",
      " 4   JARAK KELAHIRAN                   554 non-null    object\n",
      " 5   RIW HIPERTENSI                    561 non-null    object\n",
      " 6   RIW PE                            561 non-null    object\n",
      " 7   OBESITAS                          561 non-null    object\n",
      " 8   RIW DM                            561 non-null    object\n",
      " 9   RIW HIPERTENSI/PE DALAM KELUARGA  561 non-null    object\n",
      " 10  SOSEK RENDAH                      561 non-null    object\n",
      " 11  PE/Non PE                         561 non-null    object\n",
      "dtypes: int64(2), object(10)\n",
      "memory usage: 52.7+ KB\n"
     ]
    }
   ],
   "source": [
    "data1.info()\n",
    "\n"
   ]
  },
  {
   "cell_type": "code",
   "execution_count": 116,
   "metadata": {},
   "outputs": [],
   "source": [
    "def counts(column_name):\n",
    "    counts = data1[column_name].value_counts()\n",
    "    return counts\n"
   ]
  },
  {
   "cell_type": "code",
   "execution_count": 117,
   "metadata": {},
   "outputs": [],
   "source": [
    "data1['USIA'] = data1['USIA'].astype(str).str.replace(' TH', '')\n",
    "data1['USIA'] = pd.to_numeric(data1['USIA'], errors='coerce')"
   ]
  },
  {
   "cell_type": "code",
   "execution_count": 118,
   "metadata": {},
   "outputs": [],
   "source": [
    "mean_age = data1['USIA'].mean()\n",
    "data1['USIA'].fillna(mean_age, inplace=True)\n",
    "data1 = data1.dropna()"
   ]
  },
  {
   "cell_type": "code",
   "execution_count": 119,
   "metadata": {},
   "outputs": [
    {
     "name": "stdout",
     "output_type": "stream",
     "text": [
      "0      23.0\n",
      "1      29.0\n",
      "2      20.0\n",
      "3      18.0\n",
      "4      34.0\n",
      "       ... \n",
      "556    40.0\n",
      "557    28.0\n",
      "558    41.0\n",
      "559    32.0\n",
      "560    30.0\n",
      "Name: USIA, Length: 554, dtype: float64\n"
     ]
    }
   ],
   "source": [
    "print(data1['USIA'])"
   ]
  },
  {
   "cell_type": "code",
   "execution_count": 120,
   "metadata": {},
   "outputs": [
    {
     "data": {
      "text/plain": [
       "USIA\n",
       "27.994318    204\n",
       "28.000000     29\n",
       "25.000000     24\n",
       "29.000000     24\n",
       "31.000000     23\n",
       "26.000000     23\n",
       "27.000000     20\n",
       "24.000000     20\n",
       "30.000000     19\n",
       "23.000000     17\n",
       "33.000000     16\n",
       "22.000000     16\n",
       "21.000000     14\n",
       "20.000000     13\n",
       "36.000000     11\n",
       "32.000000     10\n",
       "35.000000      9\n",
       "34.000000      9\n",
       "41.000000      8\n",
       "37.000000      7\n",
       "39.000000      6\n",
       "38.000000      6\n",
       "19.000000      5\n",
       "40.000000      4\n",
       "18.000000      4\n",
       "15.000000      3\n",
       "16.000000      3\n",
       "17.000000      3\n",
       "43.000000      2\n",
       "13.000000      1\n",
       "14.000000      1\n",
       "Name: count, dtype: int64"
      ]
     },
     "execution_count": 120,
     "metadata": {},
     "output_type": "execute_result"
    }
   ],
   "source": [
    "counts('USIA')"
   ]
  },
  {
   "cell_type": "code",
   "execution_count": 121,
   "metadata": {},
   "outputs": [
    {
     "name": "stdout",
     "output_type": "stream",
     "text": [
      "0      3\n",
      "1      2\n",
      "2      1\n",
      "3      1\n",
      "4      3\n",
      "      ..\n",
      "556    3\n",
      "557    3\n",
      "558    3\n",
      "559    2\n",
      "560    2\n",
      "Name: PARITAS, Length: 554, dtype: int64\n"
     ]
    },
    {
     "data": {
      "text/plain": [
       "PARITAS\n",
       "1    228\n",
       "2    186\n",
       "3     82\n",
       "0     32\n",
       "4     20\n",
       "5      3\n",
       "6      3\n",
       "Name: count, dtype: int64"
      ]
     },
     "execution_count": 121,
     "metadata": {},
     "output_type": "execute_result"
    }
   ],
   "source": [
    "print(data1['PARITAS'])\n",
    "counts('PARITAS')"
   ]
  },
  {
   "cell_type": "code",
   "execution_count": 122,
   "metadata": {},
   "outputs": [],
   "source": [
    "data1['JARAK KELAHIRAN'] = data1['JARAK KELAHIRAN'].replace('> 2 tahun ', '> 2 tahun')"
   ]
  },
  {
   "cell_type": "code",
   "execution_count": 123,
   "metadata": {},
   "outputs": [
    {
     "data": {
      "text/plain": [
       "JARAK KELAHIRAN\n",
       "2    260\n",
       "1    213\n",
       "0     81\n",
       "Name: count, dtype: int64"
      ]
     },
     "execution_count": 123,
     "metadata": {},
     "output_type": "execute_result"
    }
   ],
   "source": [
    "le = LabelEncoder()\n",
    "data1['JARAK KELAHIRAN'] = le.fit_transform(data1['JARAK KELAHIRAN'])\n",
    "\n",
    "# Memeriksa data setelah pengisian dan encoding\n",
    "counts('JARAK KELAHIRAN')\n"
   ]
  },
  {
   "cell_type": "code",
   "execution_count": 124,
   "metadata": {},
   "outputs": [
    {
     "name": "stdout",
     "output_type": "stream",
     "text": [
      "0      Tidak\n",
      "1        PEB\n",
      "2      Tidak\n",
      "3      Tidak\n",
      "4      Tidak\n",
      "       ...  \n",
      "556    Tidak\n",
      "557    Tidak\n",
      "558    Tidak\n",
      "559    Tidak\n",
      "560    Tidak\n",
      "Name: RIW PE, Length: 554, dtype: object\n"
     ]
    }
   ],
   "source": [
    "print(data1['RIW PE'])"
   ]
  },
  {
   "cell_type": "code",
   "execution_count": 125,
   "metadata": {},
   "outputs": [
    {
     "data": {
      "text/plain": [
       "RIW HIPERTENSI\n",
       "0    501\n",
       "1     53\n",
       "Name: count, dtype: int64"
      ]
     },
     "execution_count": 125,
     "metadata": {},
     "output_type": "execute_result"
    }
   ],
   "source": [
    "data1['RIW HIPERTENSI'] = data1['RIW HIPERTENSI'].map({'Ya':1,'Tidak':0})\n",
    "counts('RIW HIPERTENSI')"
   ]
  },
  {
   "cell_type": "code",
   "execution_count": 126,
   "metadata": {},
   "outputs": [
    {
     "data": {
      "text/plain": [
       "RIW PE\n",
       "Tidak                     519\n",
       "PEB                        19\n",
       "PE                          6\n",
       "HELLP SYNDROM               2\n",
       "Impending PE                2\n",
       "Impending Eklamsia          1\n",
       "Kejang Konvulsi             1\n",
       "impending eklamsia          1\n",
       "PE, HELLP Syndrome          1\n",
       "PEB impending eklampsi      1\n",
       "Impending Ekalmsia          1\n",
       "Name: count, dtype: int64"
      ]
     },
     "execution_count": 126,
     "metadata": {},
     "output_type": "execute_result"
    }
   ],
   "source": [
    "counts('RIW PE')"
   ]
  },
  {
   "cell_type": "code",
   "execution_count": 127,
   "metadata": {},
   "outputs": [
    {
     "data": {
      "text/plain": [
       "RIW PE\n",
       "0    519\n",
       "1     35\n",
       "Name: count, dtype: int64"
      ]
     },
     "execution_count": 127,
     "metadata": {},
     "output_type": "execute_result"
    }
   ],
   "source": [
    "data1['RIW PE'] = data1['RIW PE'].apply(lambda x: 'Ya' if x != 'Tidak' else 'Tidak')\n",
    "data1['RIW PE'] = data1['RIW PE'].map({'Ya':1,'Tidak':0})\n",
    "counts('RIW PE')"
   ]
  },
  {
   "cell_type": "code",
   "execution_count": 128,
   "metadata": {},
   "outputs": [
    {
     "name": "stdout",
     "output_type": "stream",
     "text": [
      "<class 'pandas.core.frame.DataFrame'>\n",
      "Index: 554 entries, 0 to 560\n",
      "Data columns (total 12 columns):\n",
      " #   Column                            Non-Null Count  Dtype  \n",
      "---  ------                            --------------  -----  \n",
      " 0   NO                                554 non-null    int64  \n",
      " 1   NAMA                              554 non-null    object \n",
      " 2   USIA                              554 non-null    float64\n",
      " 3   PARITAS                           554 non-null    int64  \n",
      " 4   JARAK KELAHIRAN                   554 non-null    int32  \n",
      " 5   RIW HIPERTENSI                    554 non-null    int64  \n",
      " 6   RIW PE                            554 non-null    int64  \n",
      " 7   OBESITAS                          554 non-null    object \n",
      " 8   RIW DM                            554 non-null    object \n",
      " 9   RIW HIPERTENSI/PE DALAM KELUARGA  554 non-null    object \n",
      " 10  SOSEK RENDAH                      554 non-null    object \n",
      " 11  PE/Non PE                         554 non-null    object \n",
      "dtypes: float64(1), int32(1), int64(4), object(6)\n",
      "memory usage: 54.1+ KB\n"
     ]
    }
   ],
   "source": [
    "data1.info()"
   ]
  },
  {
   "cell_type": "code",
   "execution_count": 129,
   "metadata": {},
   "outputs": [
    {
     "data": {
      "text/plain": [
       "RIW HIPERTENSI/PE DALAM KELUARGA\n",
       "Tidak    543\n",
       "Ada       11\n",
       "Name: count, dtype: int64"
      ]
     },
     "execution_count": 129,
     "metadata": {},
     "output_type": "execute_result"
    }
   ],
   "source": [
    "counts('RIW HIPERTENSI/PE DALAM KELUARGA')"
   ]
  },
  {
   "cell_type": "code",
   "execution_count": 130,
   "metadata": {},
   "outputs": [],
   "source": [
    "columns_to_encode = ['OBESITAS', 'RIW DM']\n",
    "for col in columns_to_encode:\n",
    "    data1[col] = data1[col].map({'Ya': 1, 'Tidak': 0})"
   ]
  },
  {
   "cell_type": "code",
   "execution_count": 131,
   "metadata": {},
   "outputs": [
    {
     "data": {
      "text/plain": [
       "OBESITAS\n",
       "0    550\n",
       "1      4\n",
       "Name: count, dtype: int64"
      ]
     },
     "execution_count": 131,
     "metadata": {},
     "output_type": "execute_result"
    }
   ],
   "source": [
    "counts('OBESITAS')"
   ]
  },
  {
   "cell_type": "code",
   "execution_count": 132,
   "metadata": {},
   "outputs": [
    {
     "data": {
      "text/plain": [
       "RIW DM\n",
       "0    549\n",
       "1      5\n",
       "Name: count, dtype: int64"
      ]
     },
     "execution_count": 132,
     "metadata": {},
     "output_type": "execute_result"
    }
   ],
   "source": [
    "counts('RIW DM')"
   ]
  },
  {
   "cell_type": "code",
   "execution_count": 133,
   "metadata": {},
   "outputs": [
    {
     "name": "stdout",
     "output_type": "stream",
     "text": [
      "<class 'pandas.core.frame.DataFrame'>\n",
      "Index: 554 entries, 0 to 560\n",
      "Data columns (total 12 columns):\n",
      " #   Column                            Non-Null Count  Dtype  \n",
      "---  ------                            --------------  -----  \n",
      " 0   NO                                554 non-null    int64  \n",
      " 1   NAMA                              554 non-null    object \n",
      " 2   USIA                              554 non-null    float64\n",
      " 3   PARITAS                           554 non-null    int64  \n",
      " 4   JARAK KELAHIRAN                   554 non-null    int32  \n",
      " 5   RIW HIPERTENSI                    554 non-null    int64  \n",
      " 6   RIW PE                            554 non-null    int64  \n",
      " 7   OBESITAS                          554 non-null    int64  \n",
      " 8   RIW DM                            554 non-null    int64  \n",
      " 9   RIW HIPERTENSI/PE DALAM KELUARGA  554 non-null    object \n",
      " 10  SOSEK RENDAH                      554 non-null    object \n",
      " 11  PE/Non PE                         554 non-null    object \n",
      "dtypes: float64(1), int32(1), int64(6), object(4)\n",
      "memory usage: 54.1+ KB\n"
     ]
    }
   ],
   "source": [
    "data1.info()"
   ]
  },
  {
   "cell_type": "code",
   "execution_count": 134,
   "metadata": {},
   "outputs": [],
   "source": [
    "data1['RIW HIPERTENSI/PE DALAM KELUARGA'] = data1['RIW HIPERTENSI/PE DALAM KELUARGA'].map({'Ada':1,'Tidak':0})"
   ]
  },
  {
   "cell_type": "code",
   "execution_count": 135,
   "metadata": {},
   "outputs": [
    {
     "data": {
      "text/plain": [
       "RIW HIPERTENSI/PE DALAM KELUARGA\n",
       "0    543\n",
       "1     11\n",
       "Name: count, dtype: int64"
      ]
     },
     "execution_count": 135,
     "metadata": {},
     "output_type": "execute_result"
    }
   ],
   "source": [
    "counts('RIW HIPERTENSI/PE DALAM KELUARGA')"
   ]
  },
  {
   "cell_type": "code",
   "execution_count": 136,
   "metadata": {},
   "outputs": [
    {
     "data": {
      "text/plain": [
       "SOSEK RENDAH\n",
       ">UMR    550\n",
       "<UMR      4\n",
       "Name: count, dtype: int64"
      ]
     },
     "execution_count": 136,
     "metadata": {},
     "output_type": "execute_result"
    }
   ],
   "source": [
    "counts('SOSEK RENDAH')"
   ]
  },
  {
   "cell_type": "code",
   "execution_count": 137,
   "metadata": {},
   "outputs": [],
   "source": [
    "data1['SOSEK RENDAH'] = data1['SOSEK RENDAH'].map({'>UMR':1,'<UMR':0})"
   ]
  },
  {
   "cell_type": "code",
   "execution_count": 138,
   "metadata": {},
   "outputs": [
    {
     "data": {
      "text/plain": [
       "PE/Non PE\n",
       "Non PE                    514\n",
       "PEB                        20\n",
       "PE                         16\n",
       "Eklamsia                    1\n",
       "PE gemelli                  1\n",
       "PEB impending eklampsi      1\n",
       "PE                          1\n",
       "Name: count, dtype: int64"
      ]
     },
     "execution_count": 138,
     "metadata": {},
     "output_type": "execute_result"
    }
   ],
   "source": [
    " counts('PE/Non PE')"
   ]
  },
  {
   "cell_type": "code",
   "execution_count": 139,
   "metadata": {},
   "outputs": [],
   "source": [
    "data1['PE/Non PE'] = data1['PE/Non PE'].apply(lambda x: 'PE' if x != 'Non PE' else 'Non PE')\n",
    "data1['PE/Non PE'] = data1['PE/Non PE'].map({'PE':1,'Non PE':0})"
   ]
  },
  {
   "cell_type": "code",
   "execution_count": 140,
   "metadata": {},
   "outputs": [
    {
     "data": {
      "text/plain": [
       "PE/Non PE\n",
       "0    514\n",
       "1     40\n",
       "Name: count, dtype: int64"
      ]
     },
     "execution_count": 140,
     "metadata": {},
     "output_type": "execute_result"
    }
   ],
   "source": [
    "counts('PE/Non PE')"
   ]
  },
  {
   "cell_type": "code",
   "execution_count": 141,
   "metadata": {},
   "outputs": [
    {
     "name": "stdout",
     "output_type": "stream",
     "text": [
      "<class 'pandas.core.frame.DataFrame'>\n",
      "Index: 554 entries, 0 to 560\n",
      "Data columns (total 12 columns):\n",
      " #   Column                            Non-Null Count  Dtype  \n",
      "---  ------                            --------------  -----  \n",
      " 0   NO                                554 non-null    int64  \n",
      " 1   NAMA                              554 non-null    object \n",
      " 2   USIA                              554 non-null    float64\n",
      " 3   PARITAS                           554 non-null    int64  \n",
      " 4   JARAK KELAHIRAN                   554 non-null    int32  \n",
      " 5   RIW HIPERTENSI                    554 non-null    int64  \n",
      " 6   RIW PE                            554 non-null    int64  \n",
      " 7   OBESITAS                          554 non-null    int64  \n",
      " 8   RIW DM                            554 non-null    int64  \n",
      " 9   RIW HIPERTENSI/PE DALAM KELUARGA  554 non-null    int64  \n",
      " 10  SOSEK RENDAH                      554 non-null    int64  \n",
      " 11  PE/Non PE                         554 non-null    int64  \n",
      "dtypes: float64(1), int32(1), int64(9), object(1)\n",
      "memory usage: 54.1+ KB\n"
     ]
    }
   ],
   "source": [
    "data1.info()"
   ]
  },
  {
   "cell_type": "code",
   "execution_count": 142,
   "metadata": {},
   "outputs": [],
   "source": [
    "data1=data1.drop(columns=['NAMA'])"
   ]
  },
  {
   "cell_type": "code",
   "execution_count": 143,
   "metadata": {},
   "outputs": [
    {
     "name": "stdout",
     "output_type": "stream",
     "text": [
      "<class 'pandas.core.frame.DataFrame'>\n",
      "Index: 554 entries, 0 to 560\n",
      "Data columns (total 11 columns):\n",
      " #   Column                            Non-Null Count  Dtype  \n",
      "---  ------                            --------------  -----  \n",
      " 0   NO                                554 non-null    int64  \n",
      " 1   USIA                              554 non-null    float64\n",
      " 2   PARITAS                           554 non-null    int64  \n",
      " 3   JARAK KELAHIRAN                   554 non-null    int32  \n",
      " 4   RIW HIPERTENSI                    554 non-null    int64  \n",
      " 5   RIW PE                            554 non-null    int64  \n",
      " 6   OBESITAS                          554 non-null    int64  \n",
      " 7   RIW DM                            554 non-null    int64  \n",
      " 8   RIW HIPERTENSI/PE DALAM KELUARGA  554 non-null    int64  \n",
      " 9   SOSEK RENDAH                      554 non-null    int64  \n",
      " 10  PE/Non PE                         554 non-null    int64  \n",
      "dtypes: float64(1), int32(1), int64(9)\n",
      "memory usage: 49.8 KB\n"
     ]
    }
   ],
   "source": [
    "data1.info()"
   ]
  },
  {
   "cell_type": "code",
   "execution_count": 144,
   "metadata": {},
   "outputs": [],
   "source": [
    "data1.to_csv('latihan.csv')"
   ]
  }
 ],
 "metadata": {
  "kernelspec": {
   "display_name": "base",
   "language": "python",
   "name": "python3"
  },
  "language_info": {
   "codemirror_mode": {
    "name": "ipython",
    "version": 3
   },
   "file_extension": ".py",
   "mimetype": "text/x-python",
   "name": "python",
   "nbconvert_exporter": "python",
   "pygments_lexer": "ipython3",
   "version": "3.11.7"
  }
 },
 "nbformat": 4,
 "nbformat_minor": 2
}
